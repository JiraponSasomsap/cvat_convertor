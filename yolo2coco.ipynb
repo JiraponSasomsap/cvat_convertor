{
 "cells": [
  {
   "cell_type": "code",
   "execution_count": 14,
   "metadata": {},
   "outputs": [],
   "source": [
    "import json\n",
    "import numpy as np\n",
    "import os\n",
    "import pandas as pd"
   ]
  },
  {
   "cell_type": "markdown",
   "metadata": {},
   "source": [
    "for egat project only"
   ]
  },
  {
   "cell_type": "code",
   "execution_count": 11,
   "metadata": {},
   "outputs": [
    {
     "data": {
      "text/plain": [
       "dict_keys(['licenses', 'info', 'categories', 'images', 'annotations'])"
      ]
     },
     "execution_count": 11,
     "metadata": {},
     "output_type": "execute_result"
    }
   ],
   "source": [
    "path_json = r'C:\\Users\\JiraponSasomsap\\Desktop\\EGAT\\EGAT\\annotations\\instances_default.json'\n",
    "with open(path_json, 'r') as j:\n",
    "    json_data = json.load(j)\n",
    "json_data.keys()"
   ]
  },
  {
   "cell_type": "code",
   "execution_count": 23,
   "metadata": {},
   "outputs": [],
   "source": [
    "images = json_data['images']\n",
    "\n",
    "file_name = [im['file_name'] for im in images]"
   ]
  },
  {
   "cell_type": "code",
   "execution_count": 37,
   "metadata": {},
   "outputs": [],
   "source": [
    "dataset_path = r'C:\\Users\\JiraponSasomsap\\Desktop\\EGAT\\Dataset\\TF2_TrainingSet.v1i.yolov8'"
   ]
  },
  {
   "cell_type": "code",
   "execution_count": 41,
   "metadata": {},
   "outputs": [
    {
     "name": "stdout",
     "output_type": "stream",
     "text": [
      "3657\n"
     ]
    }
   ],
   "source": [
    "dataset_in_train = [train for train in os.listdir(os.path.join(dataset_path, 'train', 'labels')) if train.endswith('.txt')]\n",
    "# dataset_in_val = [valid for valid in os.listdir(os.path.join(dataset_path, 'valid')) if valid.endswith('.jpg') or valid.endswith('.png')]\n",
    "print(len(dataset_in_train))\n",
    "\n",
    "if all([True if val in dataset_in_train else False for val in file_name]):\n",
    "    print('Treu')"
   ]
  },
  {
   "cell_type": "code",
   "execution_count": null,
   "metadata": {},
   "outputs": [],
   "source": []
  }
 ],
 "metadata": {
  "kernelspec": {
   "display_name": "py312",
   "language": "python",
   "name": "python3"
  },
  "language_info": {
   "codemirror_mode": {
    "name": "ipython",
    "version": 3
   },
   "file_extension": ".py",
   "mimetype": "text/x-python",
   "name": "python",
   "nbconvert_exporter": "python",
   "pygments_lexer": "ipython3",
   "version": "3.12.3"
  }
 },
 "nbformat": 4,
 "nbformat_minor": 2
}
