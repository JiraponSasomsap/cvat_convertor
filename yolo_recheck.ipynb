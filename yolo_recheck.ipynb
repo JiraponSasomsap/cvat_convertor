{
 "cells": [
  {
   "cell_type": "code",
   "execution_count": 10,
   "metadata": {},
   "outputs": [
    {
     "name": "stderr",
     "output_type": "stream",
     "text": [
      "100%|██████████| 650/650 [00:04<00:00, 160.64it/s]\n"
     ]
    }
   ],
   "source": [
    "import os\n",
    "import cv2\n",
    "import numpy as np\n",
    "import random\n",
    "from tqdm import tqdm\n",
    "\n",
    "yolo_path = r'C:\\Users\\JiraponSasomsap\\Desktop\\CONVERT_DATASET_(CVAT)\\convert_results\\(VAL) SPM_yolo'\n",
    "save_path = r'C:\\Users\\JiraponSasomsap\\Desktop\\CONVERT_DATASET_(CVAT)\\recheck'\n",
    "images = os.listdir(os.path.join(yolo_path, 'images'))\n",
    "labels  = os.listdir(os.path.join(yolo_path, 'labels'))\n",
    "os.makedirs(os.path.join(save_path, yolo_path.split('\\\\')[-1]), exist_ok=True)\n",
    "save_path = os.path.join(save_path, yolo_path.split('\\\\')[-1])\n",
    "\n",
    "def randomColor():\n",
    "    return (random.randint(0, 255),random.randint(0, 255),random.randint(0, 255))\n",
    "\n",
    "color = []\n",
    "clsList = []\n",
    "\n",
    "for im, lb in tqdm(list(zip(images,labels)), desc=\"Processing\", ascii=True, ncols=75, colour='green'):\n",
    "    img = cv2.imread(os.path.join(yolo_path, 'images', im))\n",
    "    ymax, xmax = img.shape[:2]\n",
    "    with open(os.path.join(yolo_path, 'labels', lb), 'r') as f:\n",
    "        lb_seg = f.readlines()\n",
    "    plot = img.copy()\n",
    "    for ms in lb_seg:\n",
    "        cls = ms.split(' ')[0]\n",
    "        xy = ms.split(' ')[1:]\n",
    "        x = [int(float(val.split('\\n')[0])*xmax) for key,val in enumerate(xy) if key%2 == 0]\n",
    "        y = [int(float(val.split('\\n')[0])*ymax) for key,val in enumerate(xy) if key%2 != 0]\n",
    "        # print(x,y)\n",
    "        mask = np.array(list(zip(x,y)))\n",
    "        mask = mask.reshape(-1,1,2)\n",
    "        \n",
    "        if not int(cls) in clsList:\n",
    "            clsList.append(int(cls))\n",
    "            color.append(randomColor())\n",
    "\n",
    "        plot = cv2.polylines(img=img, pts=[mask], isClosed=True, color=color[clsList.index(int(cls))], thickness=2)\n",
    "        cv2.imwrite(os.path.join(save_path, im),plot)"
   ]
  },
  {
   "cell_type": "code",
   "execution_count": null,
   "metadata": {},
   "outputs": [],
   "source": []
  }
 ],
 "metadata": {
  "kernelspec": {
   "display_name": "py312",
   "language": "python",
   "name": "python3"
  },
  "language_info": {
   "codemirror_mode": {
    "name": "ipython",
    "version": 3
   },
   "file_extension": ".py",
   "mimetype": "text/x-python",
   "name": "python",
   "nbconvert_exporter": "python",
   "pygments_lexer": "ipython3",
   "version": "3.12.3"
  }
 },
 "nbformat": 4,
 "nbformat_minor": 2
}
