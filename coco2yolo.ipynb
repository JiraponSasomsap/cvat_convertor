{
 "cells": [
  {
   "cell_type": "code",
   "execution_count": 1,
   "id": "7d7dc26d",
   "metadata": {},
   "outputs": [],
   "source": [
    "from src.utils import extract_zip_all\n",
    "from src.CVAT2UltralyticsYOLO.cvat_coco import CVATCOCO2YOLO\n",
    "from pathlib import Path"
   ]
  },
  {
   "cell_type": "code",
   "execution_count": 2,
   "id": "437fda6f",
   "metadata": {},
   "outputs": [
    {
     "name": "stdout",
     "output_type": "stream",
     "text": [
      "Extracted BBK 2025 Set 1.zip to unzip\\BBK 2025 Set 1\n",
      "Extracted BBK 2025 Set 2.zip to unzip\\BBK 2025 Set 2\n",
      "Extracted UD-UDN 2025 Set 1.zip to unzip\\UD-UDN 2025 Set 1\n",
      "Extracted UD-UDN 2025 Set 2.zip to unzip\\UD-UDN 2025 Set 2\n"
     ]
    }
   ],
   "source": [
    "ext = extract_zip_all('zip', 'unzip')"
   ]
  },
  {
   "cell_type": "code",
   "execution_count": 2,
   "id": "28566840",
   "metadata": {},
   "outputs": [
    {
     "name": "stderr",
     "output_type": "stream",
     "text": [
      "Processing BBK 2025 Set 1: 100%|██████████| 183/183 [00:00<00:00, 185.39it/s]\n",
      "Processing BBK 2025 Set 2: 100%|██████████| 183/183 [00:00<00:00, 190.61it/s]\n"
     ]
    },
    {
     "name": "stdout",
     "output_type": "stream",
     "text": [
      "Segment Save : F:\\articulus\\PROJECTS\\teenoi\\datasets\\for_branch_train\\BBK\\BBK-yolo\n"
     ]
    },
    {
     "name": "stderr",
     "output_type": "stream",
     "text": [
      "Splitting datasets: 100%|██████████| 2/2 [00:04<00:00,  2.23s/it]"
     ]
    },
    {
     "name": "stdout",
     "output_type": "stream",
     "text": [
      "AutoSplit Save : F:\\articulus\\PROJECTS\\teenoi\\datasets\\for_branch_train\\BBK\\BBK_v1x_seg\n"
     ]
    },
    {
     "name": "stderr",
     "output_type": "stream",
     "text": [
      "\n"
     ]
    }
   ],
   "source": [
    "save_as = Path(r'F:\\articulus\\PROJECTS\\teenoi\\datasets\\for_branch_train\\BBK')\n",
    "\n",
    "def id_mng(category_id):\n",
    "    if category_id > 1:\n",
    "        category_id = 2\n",
    "    return category_id\n",
    "\n",
    "ext = True\n",
    "if ext:\n",
    "    yolo = CVATCOCO2YOLO(id_manager_func=id_mng)\n",
    "    yolo.segment(src=save_as, dst=save_as, name='BBK-yolo')\n",
    "    yolo.auto_split(dst=save_as, name='BBK_v1x_seg')"
   ]
  },
  {
   "cell_type": "code",
   "execution_count": null,
   "id": "b406629f",
   "metadata": {},
   "outputs": [],
   "source": []
  }
 ],
 "metadata": {
  "kernelspec": {
   "display_name": "test_env",
   "language": "python",
   "name": "python3"
  },
  "language_info": {
   "codemirror_mode": {
    "name": "ipython",
    "version": 3
   },
   "file_extension": ".py",
   "mimetype": "text/x-python",
   "name": "python",
   "nbconvert_exporter": "python",
   "pygments_lexer": "ipython3",
   "version": "3.9.19"
  }
 },
 "nbformat": 4,
 "nbformat_minor": 5
}
